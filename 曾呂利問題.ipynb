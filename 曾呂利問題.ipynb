{
 "cells": [
  {
   "cell_type": "markdown",
   "id": "00ad84ac",
   "metadata": {},
   "source": [
    "【問題1】100日目の米粒の数"
   ]
  },
  {
   "cell_type": "code",
   "execution_count": 2,
   "id": "11712d00",
   "metadata": {},
   "outputs": [
    {
     "name": "stdout",
     "output_type": "stream",
     "text": [
      "1267650600228229401496703205375\n"
     ]
    },
    {
     "data": {
      "image/png": "[encoded data removed]",
      "text/plain": [
       "<Figure size 432x288 with 1 Axes>"
      ]
     },
     "metadata": {
      "needs_background": "light"
     },
     "output_type": "display_data"
    }
   ],
   "source": [
    "KOME = 1\n",
    "total_KOME = KOME\n",
    "count_kome = KOME\n",
    "list_n_grains = []                         #当日貰える米粒のリスト\n",
    "list_total_grains = []                    #累計の米粒のリスト\n",
    "list_n_grains.append(KOME)        #初日の米粒を追加\n",
    "list_total_grains.append(KOME)   #初日の米粒を追加\n",
    "\n",
    "for i in range(1,100):                              #１００日間分繰り返す\n",
    "    count_kome = count_kome*2\n",
    "    total_KOME += count_kome\n",
    "    list_n_grains.append(count_kome)\n",
    "    list_total_grains.append(total_KOME)    \n",
    "\n",
    "print(total_KOME)                  #１００日間のトータルを表示する\n",
    "\n",
    "import matplotlib.pyplot as plt\n",
    "%matplotlib inline\n",
    "# グラフを表示する。タイトルと軸ラベル名付き。\n",
    "plt.title(\"total_kome\")\n",
    "plt.xlabel(\"day\")\n",
    "plt.ylabel(\"kome\")\n",
    "plt.xticks([10,20,30,40,50,60,70,80,90,100])\n",
    "plt.plot(list_total_grains,label = \"list_total_grains\")\n",
    "plt.plot(list_n_grains,label = \"list_n_grains\") # 「リスト名」のところにリストの変数名を入れる\n",
    "plt.legend()\n",
    "plt.show()"
   ]
  },
  {
   "cell_type": "markdown",
   "id": "81209897",
   "metadata": {},
   "source": [
    "【問題2】100日目以外の米粒の数"
   ]
  },
  {
   "cell_type": "code",
   "execution_count": 12,
   "id": "995e497e",
   "metadata": {},
   "outputs": [
    {
     "name": "stdout",
     "output_type": "stream",
     "text": [
      "120\n",
      "1329227995784915872903807060280344575\n"
     ]
    },
    {
     "data": {
      "image/png": "[encoded data removed]",
      "text/plain": [
       "<Figure size 432x288 with 1 Axes>"
      ]
     },
     "metadata": {
      "needs_background": "light"
     },
     "output_type": "display_data"
    }
   ],
   "source": [
    "def compute_sorori_shinzaemon(n_days=100):    #デフォルトを１００にする\n",
    "\n",
    "    KOME = 1                                #問題１と同じ処理\n",
    "    total_KOME = KOME\n",
    "    count_kome = KOME\n",
    "    list_n_grains = []\n",
    "    list_total_grains = []\n",
    "    list_n_grains.append(KOME)\n",
    "    list_total_grains.append(KOME)\n",
    "    \n",
    "    for i in range(1,n_days):                         # n_days分だけ繰り返し処理をする\n",
    "        count_kome = count_kome*2\n",
    "        total_KOME += count_kome\n",
    "        list_n_grains.append(count_kome)\n",
    "        list_total_grains.append(total_KOME)\n",
    "\n",
    "    return list_n_grains, list_total_grains       # 値を返す\n",
    "\n",
    "list_n_grains, list_total_grains = compute_sorori_shinzaemon(120)  #１２０日分を引数として渡す\n",
    "\n",
    "print(len(list_total_grains))         #リストの長さ\n",
    "print(list_total_grains[-1])          #リストの最後の値を表示\n",
    "\n",
    "import matplotlib.pyplot as plt\n",
    "%matplotlib inline\n",
    "# グラフを表示する。タイトルと軸ラベル名付き。\n",
    "plt.title(\"total_kome\")\n",
    "plt.xlabel(\"day\")\n",
    "plt.ylabel(\"kome\")\n",
    "plt.xticks([10,20,30,40,50,60,70,80,90,100,110,120,130])\n",
    "plt.plot(list_total_grains,label = \"list_total_grains\")\n",
    "plt.plot(list_n_grains,label = \"list_n_grains\") # 「リスト名」のところにリストの変数名を入れる\n",
    "plt.legend()\n",
    "plt.show()  # com + con + enter"
   ]
  },
  {
   "cell_type": "markdown",
   "id": "2fd98150",
   "metadata": {},
   "source": [
    "【問題3】貰える米で何人が何日生活できるか"
   ]
  },
  {
   "cell_type": "code",
   "execution_count": 17,
   "id": "e711e12c",
   "metadata": {},
   "outputs": [
    {
     "name": "stdout",
     "output_type": "stream",
     "text": [
      "9.890089254352053e+30\n"
     ]
    }
   ],
   "source": [
    "def sorori_seikatu(kometubu,hito):\n",
    "    KOME = 1\n",
    "    total_KOME = KOME\n",
    "    count_kome = KOME\n",
    "\n",
    "    for i in range(1,120):                      #１２０日分繰り返す\n",
    "        count_kome = count_kome*2\n",
    "        total_KOME += count_kome\n",
    "    return total_KOME/(kometubu*hito)   \n",
    "    \n",
    "print(sorori_seikatu(9600,14))      #生活できる日数\n",
    "\n",
    "#ご飯１杯１５０g\n",
    "#米粒６５g\n",
    "#１粒 0.02g およそ３２００粒   ３食で９６００粒\n",
    "#今回の受講生１４人"
   ]
  },
  {
   "cell_type": "code",
   "execution_count": null,
   "id": "1eaa7387",
   "metadata": {},
   "outputs": [],
   "source": []
  }
 ],
 "metadata": {
  "kernelspec": {
   "display_name": "Python 3",
   "language": "python",
   "name": "python3"
  },
  "language_info": {
   "codemirror_mode": {
    "name": "ipython",
    "version": 3
   },
   "file_extension": ".py",
   "mimetype": "text/x-python",
   "name": "python",
   "nbconvert_exporter": "python",
   "pygments_lexer": "ipython3",
   "version": "3.8.8"
  }
 },
 "nbformat": 4,
 "nbformat_minor": 5
}
