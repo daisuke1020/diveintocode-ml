{
 "cells": [
  {
   "cell_type": "markdown",
   "id": "b213e3a7-f39f-4043-9eca-47ffb43197d6",
   "metadata": {},
   "source": [
    "## クラスタ分析"
   ]
  },
  {
   "cell_type": "markdown",
   "id": "f463d5e5-2d96-4391-850f-757ab6095637",
   "metadata": {},
   "source": [
    "### 卸売業者のデータ分析"
   ]
  },
  {
   "cell_type": "markdown",
   "id": "b7556b00-9ea8-4a6e-976b-d174899a756f",
   "metadata": {},
   "source": [
    "クラスタリングの利用法を学ぶために、Wholesale customers Data Setを使用します。"
   ]
  },
  {
   "cell_type": "code",
   "execution_count": 16,
   "id": "1a091dd3-8dbe-4f51-ae61-3b5c90700326",
   "metadata": {},
   "outputs": [],
   "source": [
    "import pandas as pd\n",
    "import numpy as np\n",
    "import sklearn\n",
    "from sklearn.cluster import KMeans\n",
    "df = pd.read_csv('Wholesale customers data (3).csv',header = 1)"
   ]
  },
  {
   "cell_type": "code",
   "execution_count": 17,
   "id": "44a81ca6-78e8-45c9-b604-fa828c1c8abb",
   "metadata": {},
   "outputs": [],
   "source": [
    "df_ = df.loc[:,['Fresh','Milk','Grocery','Frozen','Detergents_Paper','Delicassen']]"
   ]
  },
  {
   "cell_type": "code",
   "execution_count": 3,
   "id": "fe3939da-c433-46b1-842f-ee393cab8687",
   "metadata": {},
   "outputs": [],
   "source": [
    "from sklearn.decomposition import PCA\n",
    "pca = PCA(n_components = 2)\n",
    "pca = pca.fit(df_)\n",
    "data_pca = pca.transform(df_)"
   ]
  },
  {
   "cell_type": "code",
   "execution_count": 26,
   "id": "7cc8b662-e815-46bd-af36-beb4d5d088e2",
   "metadata": {},
   "outputs": [],
   "source": [
    "from sklearn.decomposition import PCA\n",
    "import matplotlib.pyplot as plt\n",
    "pca = PCA(n_components=None)\n",
    "pca = pca.fit(df_)\n",
    "var_exp = pca.explained_variance_ratio_\n",
    "cum_var_exp = np.cumsum(var_exp)\n",
    "print(cum_var_exp)\n",
    "# 個々の説明された分散\n",
    "plt.bar(range(1,7), var_exp, alpha=0.5, align='center', label='individual explained variance')\n",
    "# 累積説明分散\n",
    "plt.step(range(1,7), cum_var_exp, where='mid', label='cumulative expalined variance')\n",
    "plt.ylabel('Explained variance ratio') #説明された分散比\n",
    "plt.xlabel('Principal components') #主成分\n",
    "plt.hlines(0.7, 0, 6,  \"blue\", linestyles='dashed')\n",
    "plt.legend(loc='best')\n",
    "plt.grid()\n",
    "plt.show()"
   ]
  },
  {
   "cell_type": "markdown",
   "id": "696b3728-2dcf-400b-b32a-e3d2596c9e5c",
   "metadata": {},
   "source": [
    "## 【問題10】クラスタ数kの選択"
   ]
  },
  {
   "cell_type": "markdown",
   "id": "d048abd3-24b4-469d-a008-345a4bbdb1c5",
   "metadata": {},
   "source": [
    "### エルボー法"
   ]
  },
  {
   "cell_type": "code",
   "execution_count": 24,
   "id": "2cb3108a-1c1a-4d27-b06e-01997347cefb",
   "metadata": {},
   "outputs": [],
   "source": [
    "SSE=[]\n",
    "for i in range(1,8):\n",
    "    model = KMeans(n_clusters=i,\n",
    "               init='k-means++',\n",
    "               n_init=5,\n",
    "               max_iter=10,\n",
    "               random_state=0)\n",
    "    model.fit(data_pca)\n",
    "    SSE.append(model.inertia_)\n",
    "plt.plot(range(1,8), SSE, marker='o')\n",
    "plt.xticks(np.arange(1,8,1))\n",
    "plt.xlabel('Number of clusters')\n",
    "plt.ylabel('SSE')\n",
    "plt.show()"
   ]
  },
  {
   "cell_type": "markdown",
   "id": "16d5e289-754e-4090-8405-36245458dc3a",
   "metadata": {},
   "source": [
    "### 選択と説明 "
   ]
  },
  {
   "cell_type": "markdown",
   "id": "8b163c45-c293-42bd-8d70-da58deca96a8",
   "metadata": {},
   "source": [
    "- 最適だと思われるクラスタの数は３個だと思います。\n",
    "\n",
    "- ４個めを設置するとエルボー法の傾きが緩やかになるため、３を選択しました。"
   ]
  },
  {
   "cell_type": "markdown",
   "id": "85785612-0701-42ed-a2e4-e277f4dc9ac5",
   "metadata": {},
   "source": [
    "## 【問題11】既知のグループとの比較"
   ]
  },
  {
   "cell_type": "markdown",
   "id": "489df46e-63d0-4b6e-8d53-4a996e42ab84",
   "metadata": {},
   "source": [
    "### Region"
   ]
  },
  {
   "cell_type": "code",
   "execution_count": 6,
   "id": "e6831016-1f34-4779-978d-bbe00f3d22e7",
   "metadata": {},
   "outputs": [],
   "source": [
    "from sklearn.cluster import KMeans"
   ]
  },
  {
   "cell_type": "code",
   "execution_count": 7,
   "id": "db931b95-b3c9-44eb-b5a4-863ef4c3dc31",
   "metadata": {},
   "outputs": [],
   "source": [
    "df_r = df.loc[:,['Region']]\n",
    "df_r_np = np.array(df_r)\n",
    "df_r_np = df_r_np.reshape(1,-1)\n",
    "skm1 = KMeans(n_clusters=3)\n",
    "skm1.fit(data_pca)\n",
    "pca_pred = skm1.predict(data_pca)"
   ]
  },
  {
   "cell_type": "code",
   "execution_count": 23,
   "id": "6729316b-2df8-461d-b38f-71008695d36e",
   "metadata": {},
   "outputs": [],
   "source": [
    "plt.xlabel(\"kurasuta\")\n",
    "plt.ylabel(\"Region\")\n",
    "plt.title(\"Region\")\n",
    "plt.hist(pca_pred,stacked = True,alpha = 0.5)\n",
    "plt.hist(df_r_np,stacked = True,alpha = 0.5)\n",
    "#plt.legend()\n",
    "plt.show()"
   ]
  },
  {
   "cell_type": "markdown",
   "id": "3f7a52b4-8fc7-445e-9551-409b4e1fd5e5",
   "metadata": {},
   "source": [
    "### Channel"
   ]
  },
  {
   "cell_type": "code",
   "execution_count": 18,
   "id": "70c60265-4abb-4bd4-9dbf-baf507e0c6ac",
   "metadata": {},
   "outputs": [],
   "source": [
    "df_c = df.loc[:,['Channel']]\n",
    "df_c_np = np.array(df_c)\n",
    "df_c_np = df_c_np.reshape(1,-1)\n",
    "skm2 = KMeans(n_clusters=3)\n",
    "skm2.fit(data_pca)\n",
    "pca_pred = skm1.predict(data_pca)"
   ]
  },
  {
   "cell_type": "code",
   "execution_count": 22,
   "id": "46e55b2a-912d-48f6-bc01-bb974876e2ff",
   "metadata": {},
   "outputs": [],
   "source": [
    "plt.xlabel(\"kurasuta\")\n",
    "plt.ylabel(\"Channel\")\n",
    "plt.title(\"Channel\")\n",
    "plt.hist(pca_pred,stacked = True,alpha = 0.5)\n",
    "plt.hist(df_c_np,stacked = True,alpha = 0.5)\n",
    "\n",
    "plt.show()"
   ]
  },
  {
   "cell_type": "markdown",
   "id": "dbcac158-e51b-40ba-b191-32550e2566d1",
   "metadata": {},
   "source": [
    "## 違い"
   ]
  },
  {
   "cell_type": "markdown",
   "id": "858fdfba-cfb9-4994-8bb3-4c09cc4c7f51",
   "metadata": {},
   "source": [
    "- RegionとChannelのクラスタとのグラフの対比を見て貰えばわかる通り、クラスタの割り当てに相違があることが見受けられるので、比較の対象には出来ない。"
   ]
  },
  {
   "cell_type": "markdown",
   "id": "2a7781f2-4da8-492c-a7a0-58d356c5eb6d",
   "metadata": {},
   "source": [
    "## 【問題12】卸売業者にとって有益な情報"
   ]
  },
  {
   "cell_type": "code",
   "execution_count": 19,
   "id": "3f4acc37-d1d8-4b11-9b20-b46ac3ded8ee",
   "metadata": {},
   "outputs": [],
   "source": [
    "df.info()"
   ]
  },
  {
   "cell_type": "code",
   "execution_count": 20,
   "id": "26c36aae-3438-41c0-ae77-8e9ec04b051b",
   "metadata": {},
   "outputs": [],
   "source": [
    "df.describe()"
   ]
  },
  {
   "cell_type": "code",
   "execution_count": 21,
   "id": "4d957763-fc8c-4f84-a064-8b4d62b2e02a",
   "metadata": {},
   "outputs": [],
   "source": [
    "df.corr()"
   ]
  },
  {
   "cell_type": "code",
   "execution_count": 25,
   "id": "a2c20179-d082-42d4-9a81-405e578065e8",
   "metadata": {},
   "outputs": [],
   "source": [
    "import seaborn as sns; \n",
    "sns.set(color_codes=True)\n",
    "corrMatt = df.corr()\n",
    "mask = np.array(corrMatt)\n",
    "mask[np.tril_indices_from(mask)] = False\n",
    "fig,ax= plt.subplots()\n",
    "fig.set_size_inches(20,10)\n",
    "sns.heatmap(corrMatt, mask=mask,vmax=.8, square=True,annot=True)"
   ]
  },
  {
   "cell_type": "markdown",
   "id": "7cac5422-3ed0-4f6d-a63e-36357bcb6608",
   "metadata": {},
   "source": [
    "- 考察"
   ]
  },
  {
   "cell_type": "markdown",
   "id": "7bb85dc2-cf8f-4ca2-af8d-c2e93248d8d7",
   "metadata": {},
   "source": [
    "色々な情報を可視化した結果、ヒートマップの情報が有力なものと見受けられ、GroceryとDetergents_Paperの相関関係が強く、次いでGroceryとMilkです。\n",
    "この結果から、Groceryと関係性の深いDetergents_Paper、及びMilkに着目した経営戦略を展開するのが望ましい。"
   ]
  }
 ],
 "metadata": {
  "kernelspec": {
   "display_name": "Python 3",
   "language": "python",
   "name": "python3"
  },
  "language_info": {
   "codemirror_mode": {
    "name": "ipython",
    "version": 3
   },
   "file_extension": ".py",
   "mimetype": "text/x-python",
   "name": "python",
   "nbconvert_exporter": "python",
   "pygments_lexer": "ipython3",
   "version": "3.8.8"
  }
 },
 "nbformat": 4,
 "nbformat_minor": 5
}
