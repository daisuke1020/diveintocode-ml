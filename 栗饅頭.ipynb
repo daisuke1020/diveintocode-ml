{
 "cells": [
  {
   "cell_type": "markdown",
   "id": "0fde9c18",
   "metadata": {},
   "source": [
    "【問題】栗まんじゅうが太陽系を覆う日"
   ]
  },
  {
   "cell_type": "code",
   "execution_count": 1,
   "id": "45e79415",
   "metadata": {},
   "outputs": [
    {
     "name": "stdout",
     "output_type": "stream",
     "text": [
      "栗饅頭が太陽系を覆い隠すのは785分後です。\n"
     ]
    }
   ],
   "source": [
    "import math\n",
    "\n",
    "taiyoukei =(math.pi*4*(1.5*9.5*10**15)**3)/3  #太陽系の半径を1.5光年の球体と仮定する\n",
    "dome = 1240000    #公式の東京ドームの容積の発表より\n",
    "def time(target):\n",
    "\n",
    "    def kaisu(target):\n",
    "        item = 100       #栗饅頭　100cm*3 と仮定　\n",
    "        k = 1            # itemの個数\n",
    "        count = 0        # 増幅を何回繰り返したかのカウンタ\n",
    "        while True:\n",
    "            count += 1\n",
    "            k = k*2\n",
    "            if item*k > target:\n",
    "                return count\n",
    "                break\n",
    "    #print(kaisu(target))\n",
    "\n",
    "    t = kaisu(target)*5   #繰り返し回数に*5分をした値を代入\n",
    "    return t             #関数timeにtの値を返す\n",
    "#print(taiyoukei)\n",
    "print(\"栗饅頭が太陽系を覆い隠すのは{:.0f}分後です。\".format(time(taiyoukei)))\n"
   ]
  },
  {
   "cell_type": "code",
   "execution_count": 2,
   "id": "c0fb9e75",
   "metadata": {},
   "outputs": [
    {
     "name": "stdout",
     "output_type": "stream",
     "text": [
      "栗饅頭が東京ドームを覆い隠すのは70分後です。\n"
     ]
    }
   ],
   "source": [
    "import math\n",
    "\n",
    "taiyoukei =(math.pi*4*(1.5*9.5*10**15)**3)/3  #太陽系の半径を1.5光年の球体と仮定する\n",
    "dome = 1240000    #公式の東京ドームの容積の発表より\n",
    "def time(target):\n",
    "\n",
    "    def kaisu(target):\n",
    "        item = 100       #栗饅頭　100cm*3 と仮定　\n",
    "        k = 1            # itemの個数\n",
    "        count = 0        # 増幅を何回繰り返したかのカウンタ\n",
    "        while True:\n",
    "            count += 1\n",
    "            k = k*2\n",
    "            if item*k > target:\n",
    "                return count\n",
    "                break\n",
    "    #print(kaisu(target))\n",
    "\n",
    "    t = kaisu(target)*5   #繰り返し回数に*5分をした値を代入\n",
    "    return t             #関数timeにtの値を返す\n",
    "#print(taiyoukei)\n",
    "print(\"栗饅頭が東京ドームを覆い隠すのは{:.0f}分後です。\".format(time(dome)))\n"
   ]
  },
  {
   "cell_type": "code",
   "execution_count": 4,
   "id": "075dd7b0",
   "metadata": {},
   "outputs": [
    {
     "name": "stdout",
     "output_type": "stream",
     "text": [
      "野球ボールが東京ドームを覆い隠すのは65分後です。\n"
     ]
    }
   ],
   "source": [
    "import math\n",
    "\n",
    "taiyoukei =(math.pi*4*(1.5*9.5*10**15)**3)/3  #太陽系の半径を1.5光年の球体と仮定する\n",
    "dome = 1240000    #公式の東京ドームの容積の発表より\n",
    "def time(target):\n",
    "\n",
    "    def kaisu(target):\n",
    "        item = 180       #野球ボール　180cm*3 と仮定　　\n",
    "        k = 1            # itemの個数\n",
    "        count = 0        # 増幅を何回繰り返したかのカウンタ\n",
    "        while True:\n",
    "            count += 1\n",
    "            k = k*2\n",
    "            if item*k > target:\n",
    "                return count\n",
    "                break\n",
    "    #print(kaisu(target))\n",
    "\n",
    "    t = kaisu(target)*5   #繰り返し回数に*5分をした値を代入\n",
    "    return t             #関数timeにtの値を返す\n",
    "#print(taiyoukei)\n",
    "print(\"野球ボールが東京ドームを覆い隠すのは{:.0f}分後です。\".format(time(dome)))\n"
   ]
  },
  {
   "cell_type": "code",
   "execution_count": 5,
   "id": "76793edb",
   "metadata": {},
   "outputs": [
    {
     "name": "stdout",
     "output_type": "stream",
     "text": [
      "栗饅頭が太陽系を覆い隠すのは780分後です。\n"
     ]
    },
    {
     "data": {
      "image/png": "[encoded data removed]",
      "text/plain": [
       "<Figure size 432x288 with 1 Axes>"
      ]
     },
     "metadata": {
      "needs_background": "light"
     },
     "output_type": "display_data"
    }
   ],
   "source": [
    "import math\n",
    "\n",
    "taiyoukei =(math.pi*4*(1.5*9.5*10**15)**3)/3  #太陽系の半径を1.5光年の球体と仮定する\n",
    "dome = 1240000    #公式の東京ドームの容積の発表より\n",
    "list_manjyu = []\n",
    "\n",
    "def time(target):\n",
    "\n",
    "    def kaisu(target):\n",
    "        item = 100       #栗饅頭　100cm*3 と仮定\n",
    "        k = 1           　 # itemの個数\n",
    "        count = 0        # 増幅を何回繰り返したかのカウンタ\n",
    "        while True:\n",
    "            count += 1\n",
    "            k = k*2\n",
    "            list_manjyu.append(item*k)\n",
    "            if item*k > target:\n",
    "                return count\n",
    "                break\n",
    "    #print(kaisu(target))\n",
    "\n",
    "    t = kaisu(target)*5   #繰り返し回数に*5分をした値を代入\n",
    "    return t             #関数timeにtの値を返す\n",
    "#print(taiyoukei)\n",
    "s = time(taiyoukei)\n",
    "\n",
    "print(\"栗饅頭が太陽系を覆い隠すのは{:.0f}分後です。\".format(s))\n",
    "\n",
    "import matplotlib.pyplot as plt\n",
    "%matplotlib inline\n",
    "# グラフを表示する。タイトルと軸ラベル名付き。\n",
    "plt.title(\"manjyu\")\n",
    "plt.xlabel(\"minutes*5\")\n",
    "plt.ylabel(\"taiseki\")\n",
    "plt.xticks([10,20,40,60,80,100,120,140,160,180,200])\n",
    "plt.plot(list_manjyu) # 「リスト名」のところにリストの変数名を入れる\n",
    "plt.show()"
   ]
  },
  {
   "cell_type": "code",
   "execution_count": null,
   "id": "e7c713ac",
   "metadata": {},
   "outputs": [],
   "source": []
  }
 ],
 "metadata": {
  "kernelspec": {
   "display_name": "Python 3",
   "language": "python",
   "name": "python3"
  },
  "language_info": {
   "codemirror_mode": {
    "name": "ipython",
    "version": 3
   },
   "file_extension": ".py",
   "mimetype": "text/x-python",
   "name": "python",
   "nbconvert_exporter": "python",
   "pygments_lexer": "ipython3",
   "version": "3.8.8"
  }
 },
 "nbformat": 4,
 "nbformat_minor": 5
}
