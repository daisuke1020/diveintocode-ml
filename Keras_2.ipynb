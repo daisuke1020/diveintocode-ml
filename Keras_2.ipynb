{
 "cells": [
  {
   "cell_type": "markdown",
   "id": "c2a03c14",
   "metadata": {
    "tags": []
   },
   "source": [
    "# Keras"
   ]
  },
  {
   "cell_type": "markdown",
   "id": "2b5d9ae1",
   "metadata": {
    "tags": []
   },
   "source": [
    "## 【問題1】公式チュートリアルモデルを分担して実行"
   ]
  },
  {
   "cell_type": "markdown",
   "id": "1b831f72",
   "metadata": {},
   "source": [
    "TensorFLowの公式チュートリアルモデルを分担して実行してください。"
   ]
  },
  {
   "cell_type": "markdown",
   "id": "215cb334",
   "metadata": {},
   "source": [
    "## 答案のKeras_1を参照"
   ]
  },
  {
   "cell_type": "markdown",
   "id": "8a225ff8",
   "metadata": {},
   "source": [
    "##  【問題２】はアドバンス問題 "
   ]
  },
  {
   "cell_type": "markdown",
   "id": "c2d16271",
   "metadata": {},
   "source": [
    "## - 異なるフレームワークへの書き換え\n"
   ]
  },
  {
   "cell_type": "markdown",
   "id": "c18d1a20",
   "metadata": {},
   "source": [
    "「Sprint13 TensorFlow」で作成した4種類のデータセットを扱うTensorFLowのコードを異なるフレームワークに変更していきます。\n",
    "\n",
    "\n",
    "- Iris（Iris-versicolorとIris-virginicaのみの2値分類）\n",
    "- Iris（3種類すべての目的変数を使用して多値分類）\n",
    "- House Prices\n",
    "- MNIST"
   ]
  },
  {
   "cell_type": "markdown",
   "id": "c875bdef",
   "metadata": {},
   "source": [
    "### Kerasへの書き換え"
   ]
  },
  {
   "cell_type": "markdown",
   "id": "bc76c483",
   "metadata": {},
   "source": [
    "KerasはTensorFLowに含まれるtf.kerasモジュールを使用してください。\n",
    "\n",
    "\n",
    "KerasにはSequentialモデルかFunctional APIかなど書き方に種類がありますが、これは指定しません"
   ]
  },
  {
   "cell_type": "code",
   "execution_count": 1,
   "id": "5d684d2d",
   "metadata": {},
   "outputs": [
    {
     "name": "stderr",
     "output_type": "stream",
     "text": [
      "Using TensorFlow backend.\n"
     ]
    }
   ],
   "source": [
    "# ライブラリ読み込み\n",
    "import numpy as np\n",
    "import pandas as pd\n",
    "from sklearn.model_selection import train_test_split\n",
    "from sklearn.datasets import load_iris\n",
    "from sklearn.preprocessing import OneHotEncoder\n",
    "from sklearn.preprocessing import StandardScaler\n",
    "import matplotlib.pyplot as plt\n",
    "from keras.datasets import mnist\n",
    "%matplotlib inline\n",
    "import tensorflow as tf\n",
    "# import tensorflow.compat.v1 as tf\n",
    "# tf.disable_eager_execution()\n",
    "import warnings #ワーニング関連のモジュール？\n",
    "warnings.filterwarnings('ignore') #ワーニングが消える？"
   ]
  },
  {
   "cell_type": "markdown",
   "id": "9edbf96d",
   "metadata": {},
   "source": [
    "## 【問題3】Iris（2値分類）をKerasで学習"
   ]
  },
  {
   "cell_type": "markdown",
   "id": "a5cccb96",
   "metadata": {},
   "source": [
    "TensorFlowによるIrisデータセットに対する2値分類をKerasに書き換えてください。"
   ]
  },
  {
   "cell_type": "markdown",
   "id": "19a5e6c4",
   "metadata": {
    "tags": []
   },
   "source": [
    "## データ準備"
   ]
  },
  {
   "cell_type": "code",
   "execution_count": 2,
   "id": "3d6aae5b",
   "metadata": {},
   "outputs": [
    {
     "name": "stdout",
     "output_type": "stream",
     "text": [
      "(100, 4)\n",
      "(100, 1)\n"
     ]
    }
   ],
   "source": [
    "\"\"\"\n",
    "Irisデータセットを2値分類する\n",
    "\"\"\"\n",
    "# データセットの読み込み\n",
    "iris = load_iris()\n",
    "\n",
    "# データフレームから条件抽出\n",
    "#df = df[(df[\"Species\"] == \"Iris-versicolor\")|(df[\"Species\"] == \"Iris-virginica\")]\n",
    "X = pd.DataFrame(iris.data,columns=[\"sepal_length\",\"sepal_width\",\"petal_length\",\"petal_width\"] )\n",
    "y = pd.DataFrame(iris.target,columns=[\"Species\"])\n",
    "X = X.loc[0:99,[\"sepal_length\",\"sepal_width\",\"petal_length\",\"petal_width\"]]\n",
    "y = y.loc[0:99,[\"Species\"]]\n",
    "\n",
    "y = np.array(y)\n",
    "X = np.array(X).astype(np.float32)\n",
    "#print(X)\n",
    "#print(y)\n",
    "#y = y.astype(np.float32)[:, np.newaxis]\n",
    "print(X.shape)\n",
    "print(y.shape)\n",
    "# print(X)\n",
    "# print(y)\n",
    "# trainとtestに分割\n",
    "X_train, X_test, y_train, y_test = train_test_split(X, y, test_size=0.2, random_state=0)\n",
    "# さらにtrainとvalに分割\n",
    "#X_train, X_val, y_train, y_val = train_test_split(X_train, y_train, test_size=0.2, random_state=0)\n",
    "\n",
    "# 正規化\n",
    "X_train /= 255\n",
    "X_test /= 255\n",
    "#X_val /= 255"
   ]
  },
  {
   "cell_type": "code",
   "execution_count": 3,
   "id": "da3e7c61",
   "metadata": {},
   "outputs": [
    {
     "name": "stderr",
     "output_type": "stream",
     "text": [
      "2021-09-06 15:59:53.467171: I tensorflow/core/platform/cpu_feature_guard.cc:143] Your CPU supports instructions that this TensorFlow binary was not compiled to use: AVX2 FMA\n",
      "2021-09-06 15:59:53.488318: I tensorflow/compiler/xla/service/service.cc:168] XLA service 0x7fe9deca9b80 initialized for platform Host (this does not guarantee that XLA will be used). Devices:\n",
      "2021-09-06 15:59:53.488331: I tensorflow/compiler/xla/service/service.cc:176]   StreamExecutor device (0): Host, Default Version\n"
     ]
    }
   ],
   "source": [
    "# モデルの定義\n",
    "model = tf.keras.Sequential()\n",
    "model.add(tf.keras.layers.Dense(50,activation = tf.nn.relu,input_shape=(4,)))\n",
    "model.add(tf.keras.layers.Dense(100))\n",
    "model.add(tf.keras.layers.Dense(1,activation = tf.nn.sigmoid))"
   ]
  },
  {
   "cell_type": "code",
   "execution_count": 4,
   "id": "228674bb",
   "metadata": {},
   "outputs": [
    {
     "name": "stdout",
     "output_type": "stream",
     "text": [
      "Model: \"sequential\"\n",
      "_________________________________________________________________\n",
      "Layer (type)                 Output Shape              Param #   \n",
      "=================================================================\n",
      "dense (Dense)                (None, 50)                250       \n",
      "_________________________________________________________________\n",
      "dense_1 (Dense)              (None, 100)               5100      \n",
      "_________________________________________________________________\n",
      "dense_2 (Dense)              (None, 1)                 101       \n",
      "=================================================================\n",
      "Total params: 5,451\n",
      "Trainable params: 5,451\n",
      "Non-trainable params: 0\n",
      "_________________________________________________________________\n"
     ]
    }
   ],
   "source": [
    "# モデル構造の確認\n",
    "model.summary()"
   ]
  },
  {
   "cell_type": "code",
   "execution_count": 5,
   "id": "8f2e2335",
   "metadata": {},
   "outputs": [],
   "source": [
    "# モデルのコンパイル\n",
    "model.compile(loss = 'binary_crossentropy',\n",
    "              optimizer=tf.optimizers.Adam(learning_rate=0.01),\n",
    "              metrics=['accuracy'])"
   ]
  },
  {
   "cell_type": "code",
   "execution_count": 6,
   "id": "f0bf8fd0",
   "metadata": {},
   "outputs": [
    {
     "name": "stdout",
     "output_type": "stream",
     "text": [
      "Epoch 1/10\n",
      "8/8 [==============================] - 0s 15ms/step - loss: 0.7017 - accuracy: 0.4750 - val_loss: 0.6886 - val_accuracy: 0.5000\n",
      "Epoch 2/10\n",
      "8/8 [==============================] - 0s 4ms/step - loss: 0.6869 - accuracy: 0.5250 - val_loss: 0.6879 - val_accuracy: 0.5000\n",
      "Epoch 3/10\n",
      "8/8 [==============================] - 0s 4ms/step - loss: 0.6885 - accuracy: 0.5000 - val_loss: 0.6813 - val_accuracy: 0.5000\n",
      "Epoch 4/10\n",
      "8/8 [==============================] - 0s 4ms/step - loss: 0.6920 - accuracy: 0.5000 - val_loss: 0.6772 - val_accuracy: 0.5000\n",
      "Epoch 5/10\n",
      "8/8 [==============================] - 0s 3ms/step - loss: 0.6764 - accuracy: 0.5250 - val_loss: 0.6686 - val_accuracy: 0.5000\n",
      "Epoch 6/10\n",
      "8/8 [==============================] - 0s 4ms/step - loss: 0.6623 - accuracy: 0.7875 - val_loss: 0.6402 - val_accuracy: 1.0000\n",
      "Epoch 7/10\n",
      "8/8 [==============================] - 0s 4ms/step - loss: 0.6426 - accuracy: 0.6000 - val_loss: 0.6081 - val_accuracy: 0.5000\n",
      "Epoch 8/10\n",
      "8/8 [==============================] - 0s 4ms/step - loss: 0.5717 - accuracy: 0.8500 - val_loss: 0.5125 - val_accuracy: 0.9250\n",
      "Epoch 9/10\n",
      "8/8 [==============================] - 0s 4ms/step - loss: 0.4723 - accuracy: 0.9125 - val_loss: 0.3738 - val_accuracy: 0.9750\n",
      "Epoch 10/10\n",
      "8/8 [==============================] - 0s 4ms/step - loss: 0.3546 - accuracy: 0.9125 - val_loss: 0.2739 - val_accuracy: 0.9500\n"
     ]
    }
   ],
   "source": [
    "# 学習実行\n",
    "history = model.fit(X_train, y_train,\n",
    "                    batch_size=10,\n",
    "                    epochs=10,\n",
    "                    verbose=1,\n",
    "                    validation_data=(X_train, y_train))"
   ]
  },
  {
   "cell_type": "code",
   "execution_count": 7,
   "id": "d0bedb49",
   "metadata": {},
   "outputs": [],
   "source": [
    "y_pred = model.predict(X_test)[:,0]"
   ]
  },
  {
   "cell_type": "code",
   "execution_count": 8,
   "id": "799a3372",
   "metadata": {},
   "outputs": [],
   "source": [
    "y_pred = np.where(y_pred > 0.5,1,0)"
   ]
  },
  {
   "cell_type": "code",
   "execution_count": 9,
   "id": "1110ffcf",
   "metadata": {},
   "outputs": [
    {
     "name": "stdout",
     "output_type": "stream",
     "text": [
      "y_pred [0 1 0 1 1 0 0 1 1 1 1 1 1 0 0 0 0 0 0 0]\n",
      "y_test [0 1 0 1 1 1 0 1 1 1 1 1 1 0 0 0 0 0 0 0]\n"
     ]
    }
   ],
   "source": [
    "print(\"y_pred\", y_pred)\n",
    "print('y_test', y_test.ravel())"
   ]
  },
  {
   "cell_type": "code",
   "execution_count": 10,
   "id": "0c32ca9f",
   "metadata": {},
   "outputs": [
    {
     "name": "stdout",
     "output_type": "stream",
     "text": [
      "test loss: 0.26422780752182007\n",
      "test accuracy: 0.949999988079071\n"
     ]
    }
   ],
   "source": [
    "score = model.evaluate(X_test, y_test, verbose=0)\n",
    "print('test loss:', score[0])\n",
    "print('test accuracy:', score[1])"
   ]
  },
  {
   "cell_type": "markdown",
   "id": "79bc536b",
   "metadata": {},
   "source": [
    "## 【問題4】Iris（多値分類）をKerasで学習"
   ]
  },
  {
   "cell_type": "markdown",
   "id": "aae7a5a1",
   "metadata": {},
   "source": [
    "TensorFlowによるIrisデータセットに対する3値分類をKerasに書き換えてください"
   ]
  },
  {
   "cell_type": "markdown",
   "id": "95a5febb",
   "metadata": {},
   "source": [
    "## データ準備"
   ]
  },
  {
   "cell_type": "code",
   "execution_count": 11,
   "id": "08862ac8",
   "metadata": {},
   "outputs": [
    {
     "name": "stdout",
     "output_type": "stream",
     "text": [
      "(150, 4)\n",
      "(150, 1)\n"
     ]
    }
   ],
   "source": [
    "X = pd.DataFrame(iris.data,columns=[\"sepal_length\",\"sepal_width\",\"petal_length\",\"petal_width\"] )\n",
    "y = pd.DataFrame(iris.target,columns=[\"Species\"])\n",
    "X = np.array(X)\n",
    "y = np.array(y)\n",
    "print(X.shape)\n",
    "print(y.shape)"
   ]
  },
  {
   "cell_type": "code",
   "execution_count": 12,
   "id": "e973ee86",
   "metadata": {},
   "outputs": [],
   "source": [
    "# 訓練データ、テストデータ、評価データに分割\n",
    "X_train,X_test,y_train,y_test = train_test_split(X,y,test_size=0.2,random_state=0)\n",
    "#X_train,X_val,y_train,y_val = train_test_split(X_train,y_train,test_size=0.2,random_state=0)\n",
    "\n",
    "# onehotベクトル化\n",
    "enc = OneHotEncoder(handle_unknown='ignore',sparse=False)\n",
    "y_train_one_hot = enc.fit_transform(y_train)\n",
    "# print(y_train)\n",
    "# print(y_train_one_hot)\n",
    "#y_val_one_hot = enc.transform(y_val)\n",
    "# print(\"--------\")\n",
    "# print(y_val)\n",
    "# print(y_val_one_hot)\n",
    "y_test_one_hot = enc.transform(y_test)\n",
    "# print(\"--------\")\n",
    "# print(y_test)\n",
    "# print(y_test_one_hot)"
   ]
  },
  {
   "cell_type": "code",
   "execution_count": 13,
   "id": "3fff0c98",
   "metadata": {},
   "outputs": [],
   "source": [
    "# 正規化\n",
    "X_train /= 255\n",
    "X_test /= 255\n",
    "#X_val /= 255\n",
    "#print(X_train)"
   ]
  },
  {
   "cell_type": "code",
   "execution_count": 14,
   "id": "600e802f",
   "metadata": {},
   "outputs": [],
   "source": [
    "# モデルの定義\n",
    "model = tf.keras.Sequential()\n",
    "model.add(tf.keras.layers.Dense(50,activation = tf.nn.relu,input_shape=(4,)))\n",
    "model.add(tf.keras.layers.Dense(100))\n",
    "model.add(tf.keras.layers.Dense(3,activation = tf.nn.softmax))"
   ]
  },
  {
   "cell_type": "code",
   "execution_count": 15,
   "id": "c2882a68",
   "metadata": {},
   "outputs": [
    {
     "name": "stdout",
     "output_type": "stream",
     "text": [
      "Model: \"sequential_1\"\n",
      "_________________________________________________________________\n",
      "Layer (type)                 Output Shape              Param #   \n",
      "=================================================================\n",
      "dense_3 (Dense)              (None, 50)                250       \n",
      "_________________________________________________________________\n",
      "dense_4 (Dense)              (None, 100)               5100      \n",
      "_________________________________________________________________\n",
      "dense_5 (Dense)              (None, 3)                 303       \n",
      "=================================================================\n",
      "Total params: 5,653\n",
      "Trainable params: 5,653\n",
      "Non-trainable params: 0\n",
      "_________________________________________________________________\n"
     ]
    }
   ],
   "source": [
    "# モデル構造の確認\n",
    "model.summary()"
   ]
  },
  {
   "cell_type": "code",
   "execution_count": 16,
   "id": "ba9d109b",
   "metadata": {},
   "outputs": [],
   "source": [
    "# モデルのコンパイル\n",
    "model.compile(loss = 'binary_crossentropy',\n",
    "              optimizer=tf.optimizers.Adam(learning_rate=0.01),\n",
    "              metrics=['accuracy'])"
   ]
  },
  {
   "cell_type": "code",
   "execution_count": 17,
   "id": "f7723d00",
   "metadata": {},
   "outputs": [
    {
     "name": "stdout",
     "output_type": "stream",
     "text": [
      "Epoch 1/10\n",
      "12/12 [==============================] - 0s 7ms/step - loss: 0.6444 - accuracy: 0.2583 - val_loss: 0.6306 - val_accuracy: 0.3667\n",
      "Epoch 2/10\n",
      "12/12 [==============================] - 0s 3ms/step - loss: 0.6390 - accuracy: 0.3667 - val_loss: 0.6295 - val_accuracy: 0.3667\n",
      "Epoch 3/10\n",
      "12/12 [==============================] - 0s 3ms/step - loss: 0.6290 - accuracy: 0.3667 - val_loss: 0.6208 - val_accuracy: 0.3667\n",
      "Epoch 4/10\n",
      "12/12 [==============================] - 0s 3ms/step - loss: 0.6165 - accuracy: 0.5250 - val_loss: 0.5961 - val_accuracy: 0.6917\n",
      "Epoch 5/10\n",
      "12/12 [==============================] - 0s 9ms/step - loss: 0.6020 - accuracy: 0.5083 - val_loss: 0.6440 - val_accuracy: 0.3667\n",
      "Epoch 6/10\n",
      "12/12 [==============================] - 0s 3ms/step - loss: 0.5598 - accuracy: 0.5500 - val_loss: 0.5374 - val_accuracy: 0.4417\n",
      "Epoch 7/10\n",
      "12/12 [==============================] - 0s 3ms/step - loss: 0.4735 - accuracy: 0.6333 - val_loss: 0.4102 - val_accuracy: 0.6917\n",
      "Epoch 8/10\n",
      "12/12 [==============================] - 0s 3ms/step - loss: 0.3761 - accuracy: 0.6917 - val_loss: 0.3560 - val_accuracy: 0.6917\n",
      "Epoch 9/10\n",
      "12/12 [==============================] - 0s 3ms/step - loss: 0.3120 - accuracy: 0.7000 - val_loss: 0.3161 - val_accuracy: 0.7000\n",
      "Epoch 10/10\n",
      "12/12 [==============================] - 0s 3ms/step - loss: 0.2785 - accuracy: 0.7417 - val_loss: 0.2379 - val_accuracy: 0.8417\n"
     ]
    }
   ],
   "source": [
    "# 学習実行\n",
    "history = model.fit(X_train, y_train_one_hot,\n",
    "                    batch_size=10,\n",
    "                    epochs=10,\n",
    "                    verbose=1,\n",
    "                    validation_data=(X_train, y_train_one_hot))"
   ]
  },
  {
   "cell_type": "code",
   "execution_count": 18,
   "id": "95ccb086",
   "metadata": {},
   "outputs": [
    {
     "name": "stdout",
     "output_type": "stream",
     "text": [
      "y_pred [2 1 0 2 0 2 0 2 2 1 2 2 2 2 2 0 2 1 0 0 2 2 0 0 2 0 0 1 0 0]\n",
      "y_test [2 1 0 2 0 2 0 1 1 1 2 1 1 1 1 0 1 1 0 0 2 1 0 0 2 0 0 1 1 0]\n"
     ]
    }
   ],
   "source": [
    "# 予測値の最大インデックスを出力クラスとする\n",
    "y_pred = model.predict(X_test)\n",
    "y_pred = np.argmax(y_pred, axis=1)\n",
    "print(\"y_pred\", y_pred)\n",
    "print('y_test', y_test.ravel())"
   ]
  },
  {
   "cell_type": "code",
   "execution_count": 19,
   "id": "a2cf56f5",
   "metadata": {},
   "outputs": [
    {
     "name": "stdout",
     "output_type": "stream",
     "text": [
      "test loss: 0.28281769156455994\n",
      "test accuracy: 0.699999988079071\n"
     ]
    }
   ],
   "source": [
    "score = model.evaluate(X_test, y_test_one_hot, verbose=0)\n",
    "print('test loss:', score[0])\n",
    "print('test accuracy:', score[1])"
   ]
  },
  {
   "cell_type": "markdown",
   "id": "1eaacb0f",
   "metadata": {},
   "source": [
    "## 【問題5】House PricesをKerasで学習"
   ]
  },
  {
   "cell_type": "markdown",
   "id": "335581e5",
   "metadata": {},
   "source": [
    "TensorFlowによるHouse Pricesデータセットに対する回帰をKerasに書き換えてください。"
   ]
  },
  {
   "cell_type": "markdown",
   "id": "0cde7050",
   "metadata": {},
   "source": [
    "## データ準備"
   ]
  },
  {
   "cell_type": "code",
   "execution_count": 20,
   "id": "f8ee2de2",
   "metadata": {},
   "outputs": [
    {
     "name": "stdout",
     "output_type": "stream",
     "text": [
      "(1460,)\n",
      "(1460, 2)\n",
      "(1460, 1)\n",
      "[[12.24769432]\n",
      " [12.10901093]\n",
      " [12.31716669]\n",
      " ...\n",
      " [12.49312952]\n",
      " [11.86446223]\n",
      " [11.90158345]]\n"
     ]
    }
   ],
   "source": [
    "csv_path = \"train.csv\" # ファイル名（パス）を指定する\n",
    "\n",
    "'''学習用データの読み込み'''\n",
    "df = pd.read_csv(\"train.csv\")\n",
    "\n",
    "y = df[\"SalePrice\"]\n",
    "X = df.loc[:,[\"GrLivArea\",\"YearBuilt\"]]\n",
    "y = np.array(y)\n",
    "X = np.array(X)\n",
    "print(y.shape)\n",
    "print(X.shape)\n",
    "# newaxis = 次元を増やす\n",
    "y = y.astype(np.int)[:,np.newaxis]\n",
    "# np.logで対数変換\n",
    "y = np.log(y)\n",
    "print(y.shape)\n",
    "print(y)\n",
    "X_train,X_test,y_train,y_test = train_test_split(X,y,test_size=0.2,random_state=0)\n",
    "X_train,X_val,y_train,y_val = train_test_split(X_train,y_train,test_size=0.2,random_state=0)"
   ]
  },
  {
   "cell_type": "code",
   "execution_count": 21,
   "id": "9ed93123",
   "metadata": {},
   "outputs": [],
   "source": [
    "# モデルの定義\n",
    "model = tf.keras.Sequential()\n",
    "model.add(tf.keras.layers.Dense(50,activation = tf.nn.sigmoid,input_shape=(2,)))\n",
    "model.add(tf.keras.layers.Dense(100))\n",
    "model.add(tf.keras.layers.Dense(1,activation = tf.keras.activations.linear))"
   ]
  },
  {
   "cell_type": "code",
   "execution_count": 22,
   "id": "a31c16da",
   "metadata": {},
   "outputs": [
    {
     "name": "stdout",
     "output_type": "stream",
     "text": [
      "Model: \"sequential_2\"\n",
      "_________________________________________________________________\n",
      "Layer (type)                 Output Shape              Param #   \n",
      "=================================================================\n",
      "dense_6 (Dense)              (None, 50)                150       \n",
      "_________________________________________________________________\n",
      "dense_7 (Dense)              (None, 100)               5100      \n",
      "_________________________________________________________________\n",
      "dense_8 (Dense)              (None, 1)                 101       \n",
      "=================================================================\n",
      "Total params: 5,351\n",
      "Trainable params: 5,351\n",
      "Non-trainable params: 0\n",
      "_________________________________________________________________\n"
     ]
    }
   ],
   "source": [
    "# モデル構造の確認\n",
    "model.summary()"
   ]
  },
  {
   "cell_type": "code",
   "execution_count": 23,
   "id": "640f874c",
   "metadata": {},
   "outputs": [],
   "source": [
    "# モデルのコンパイル\n",
    "model.compile(loss = 'mse',\n",
    "              optimizer=tf.optimizers.Adam(learning_rate=0.01),\n",
    "              metrics=['mse'])"
   ]
  },
  {
   "cell_type": "code",
   "execution_count": 24,
   "id": "8445fe91",
   "metadata": {},
   "outputs": [
    {
     "name": "stdout",
     "output_type": "stream",
     "text": [
      "Epoch 1/20\n",
      "94/94 [==============================] - 0s 1ms/step - loss: 5.3062 - mse: 5.3062 - val_loss: 0.1091 - val_mse: 0.1091\n",
      "Epoch 2/20\n",
      "94/94 [==============================] - 0s 993us/step - loss: 0.1089 - mse: 0.1089 - val_loss: 0.1260 - val_mse: 0.1260\n",
      "Epoch 3/20\n",
      "94/94 [==============================] - 0s 953us/step - loss: 0.1160 - mse: 0.1160 - val_loss: 0.0894 - val_mse: 0.0894\n",
      "Epoch 4/20\n",
      "94/94 [==============================] - 0s 974us/step - loss: 0.1088 - mse: 0.1088 - val_loss: 0.0933 - val_mse: 0.0933\n",
      "Epoch 5/20\n",
      "94/94 [==============================] - 0s 956us/step - loss: 0.1166 - mse: 0.1166 - val_loss: 0.1187 - val_mse: 0.1187\n",
      "Epoch 6/20\n",
      "94/94 [==============================] - 0s 984us/step - loss: 0.1016 - mse: 0.1016 - val_loss: 0.0905 - val_mse: 0.0905\n",
      "Epoch 7/20\n",
      "94/94 [==============================] - 0s 982us/step - loss: 0.1107 - mse: 0.1107 - val_loss: 0.0876 - val_mse: 0.0876\n",
      "Epoch 8/20\n",
      "94/94 [==============================] - 0s 991us/step - loss: 0.0951 - mse: 0.0951 - val_loss: 0.0883 - val_mse: 0.0883\n",
      "Epoch 9/20\n",
      "94/94 [==============================] - 0s 979us/step - loss: 0.0936 - mse: 0.0936 - val_loss: 0.0911 - val_mse: 0.0911\n",
      "Epoch 10/20\n",
      "94/94 [==============================] - 0s 996us/step - loss: 0.0966 - mse: 0.0966 - val_loss: 0.1117 - val_mse: 0.1117\n",
      "Epoch 11/20\n",
      "94/94 [==============================] - 0s 971us/step - loss: 0.1141 - mse: 0.1141 - val_loss: 0.0853 - val_mse: 0.0853\n",
      "Epoch 12/20\n",
      "94/94 [==============================] - 0s 975us/step - loss: 0.1110 - mse: 0.1110 - val_loss: 0.1076 - val_mse: 0.1076\n",
      "Epoch 13/20\n",
      "94/94 [==============================] - 0s 988us/step - loss: 0.1744 - mse: 0.1744 - val_loss: 0.1493 - val_mse: 0.1493\n",
      "Epoch 14/20\n",
      "94/94 [==============================] - 0s 958us/step - loss: 0.1378 - mse: 0.1378 - val_loss: 0.0879 - val_mse: 0.0879\n",
      "Epoch 15/20\n",
      "94/94 [==============================] - 0s 1ms/step - loss: 0.1158 - mse: 0.1158 - val_loss: 0.0864 - val_mse: 0.0864\n",
      "Epoch 16/20\n",
      "94/94 [==============================] - 0s 1ms/step - loss: 0.1146 - mse: 0.1146 - val_loss: 0.0932 - val_mse: 0.0932\n",
      "Epoch 17/20\n",
      "94/94 [==============================] - 0s 961us/step - loss: 0.1267 - mse: 0.1267 - val_loss: 0.1138 - val_mse: 0.1138\n",
      "Epoch 18/20\n",
      "94/94 [==============================] - 0s 955us/step - loss: 0.1073 - mse: 0.1073 - val_loss: 0.0819 - val_mse: 0.0819\n",
      "Epoch 19/20\n",
      "94/94 [==============================] - 0s 966us/step - loss: 0.1200 - mse: 0.1200 - val_loss: 0.1060 - val_mse: 0.1060\n",
      "Epoch 20/20\n",
      "94/94 [==============================] - 0s 965us/step - loss: 0.1418 - mse: 0.1418 - val_loss: 0.2052 - val_mse: 0.2052\n"
     ]
    }
   ],
   "source": [
    "# 学習実行\n",
    "history = model.fit(X_train, y_train,\n",
    "                    batch_size=10,\n",
    "                    epochs=20,\n",
    "                    verbose=1,\n",
    "                    validation_data=(X_val, y_val))"
   ]
  },
  {
   "cell_type": "code",
   "execution_count": 25,
   "id": "e5047ffc",
   "metadata": {},
   "outputs": [
    {
     "name": "stdout",
     "output_type": "stream",
     "text": [
      "y_pred [11.8676605 11.8676605 11.473645  11.8676605 11.473645  11.473082\n",
      " 11.863195  11.636468  13.065468  11.473645  11.63644   11.8676605\n",
      " 11.8676605 11.3535595 11.473645  11.63644   11.8676605 11.3535595\n",
      " 11.473645  11.8676605 11.636462  11.3535595 11.3535595 11.86766\n",
      " 11.8676605 11.8676605 11.8676605 11.3535595 11.8676605 11.473645\n",
      " 11.8676605 11.8676605 11.3535595 11.8676605 11.8676605 11.782997\n",
      " 11.8676605 11.3535595 11.8676605 11.8676605 11.8676605 11.63644\n",
      " 11.603551  11.8676605 11.8676605 11.8676605 11.3535595 11.3535595\n",
      " 11.8676605 11.3535595 11.8676605 11.473644  11.63644   11.3535595\n",
      " 11.8676605 11.3535595 11.8676605 11.8676605 11.473645  11.3535595\n",
      " 11.473529  11.473356  11.473644  11.473644  11.8676605 11.8676605\n",
      " 11.3535595 11.8676605 11.616909  11.8676605 11.636951  11.473645\n",
      " 11.3535595 11.636443  11.3535595 11.8676605 11.35356   11.3535595\n",
      " 11.8676605 11.636354  11.3535595 11.3535595 11.63644   11.3535595\n",
      " 12.141267  11.636436  11.473646  11.63644   11.473645  11.473645\n",
      " 11.8676605 11.8676605 11.8676605 11.8676605 11.473644  11.473713\n",
      " 11.867657  11.8676605 11.3535595 11.8676605 11.8676605 11.8676605\n",
      " 11.63644   11.676737  11.3535595 11.8676605 11.63644   11.3535595\n",
      " 11.867657  11.63645   11.3535595 11.362406  11.8676605 11.473645\n",
      " 11.835904  11.8676605 11.8676605 11.449968  11.8676605 11.8676605\n",
      " 11.473623  11.63644   11.3535595 11.8676605 11.8676605 11.867594\n",
      " 11.8676605 11.496473  11.473645  11.8676605 11.63644   11.473645\n",
      " 11.8676605 11.844217  11.3535595 11.8676605 11.8676605 11.63644\n",
      " 11.3535595 11.8676605 11.473645  11.473043  11.8676605 11.375071\n",
      " 11.473696  11.8676605 11.86536   11.473568  11.8676605 11.8676605\n",
      " 11.817093  11.8676605 11.8676605 11.8676605 11.8676605 11.8676605\n",
      " 11.473645  11.8676605 11.473644  11.86766   11.3535595 11.473645\n",
      " 11.8676605 11.3535595 11.8676605 11.8676605 11.8676605 11.8676605\n",
      " 11.63644   11.8676605 11.63644   11.8676605 11.557192  11.473645\n",
      " 11.3535595 11.473645  11.473645  11.8676605 11.63644   11.473644\n",
      " 11.8676605 11.8676605 11.473645  11.8676605 11.3535595 11.8676605\n",
      " 11.3535595 11.473645  11.63644   11.3535595 11.3535595 11.63644\n",
      " 11.8676605 11.3535595 11.62931   11.3535595 11.3535595 11.473645\n",
      " 11.8676605 11.63644   11.63644   11.473645  11.3535595 11.371624\n",
      " 11.8676605 11.8676605 11.4736595 11.8676605 11.8676605 11.3535595\n",
      " 11.473645  11.8676605 11.471727  11.3535595 11.8676605 11.8676605\n",
      " 11.636753  11.8676605 11.8676605 11.3535595 11.86766   11.636444\n",
      " 11.8676605 11.3535595 11.8676605 11.8676605 11.8676605 11.8676605\n",
      " 11.473644  11.63644   11.472084  11.473645  11.3535595 11.473645\n",
      " 11.8676605 11.856543  11.8676605 11.3535595 11.473645  11.8676605\n",
      " 11.635601  11.8676605 11.8676605 11.8676605 11.473688  11.473644\n",
      " 11.63644   11.8676605 11.63644   11.637671  11.861471  11.8676605\n",
      " 11.3535595 11.8676605 11.614019  11.8676605 11.3535595 11.8676605\n",
      " 12.141275  12.500027  11.8676605 11.8676605 11.8676605 11.63644\n",
      " 11.8676605 11.8676605 11.8676605 10.832926  11.8676605 11.8676605\n",
      " 11.8676605 11.8676605 11.8676605 11.8676605 11.8676605 11.8676605\n",
      " 11.8676605 11.8676605 11.8676605 11.63644   11.3535595 11.8676605\n",
      " 11.8676605 11.8676605 11.476234  11.8676605 11.473644  11.8676605\n",
      " 11.8676605 11.8676605 11.3535595 11.473645 ]\n",
      "y_test [12.20918779 11.79810441 11.60823564 12.16525065 11.38509209 11.35040654\n",
      " 12.55292652 11.85651517 13.5211395  11.9103584  12.24961095 11.82704253\n",
      " 12.32385568 11.71993963 11.68855803 11.88448902 12.15477935 11.72480582\n",
      " 11.91404782 11.9511804  12.01974307 11.88103479 11.60823564 12.06681058\n",
      " 12.1281111  12.03171926 12.08672589 11.34450681 12.67607627 11.68266824\n",
      " 11.60823564 12.26904744 11.95761129 12.4292162  12.82799232 12.07254125\n",
      " 12.53357621 11.6307085  12.47990931 12.69158046 12.40081672 11.77528973\n",
      " 12.01364014 12.54254488 12.90669184 11.68687877 11.73606902 11.76134682\n",
      " 12.05815252 11.34922937 12.92999148 11.95761129 12.03112384 11.51292546\n",
      " 12.52452638 11.71993963 11.7905572  12.38797745 11.84222921 11.65268741\n",
      " 11.8313792  11.81303006 11.80894766 12.10348606 12.17303279 11.96081129\n",
      " 11.7905572  12.32163099 11.84222921 12.32385568 12.14685329 11.6784399\n",
      " 11.31447453 12.87901712 11.62625415 12.42480649 11.80931948 11.2835123\n",
      " 12.67607627 11.97035031 11.8493977  11.82407989 11.58524613 11.88448902\n",
      " 12.20856953 12.1281111  11.56171563 12.21930965 12.13350195 11.82041016\n",
      " 12.20856953 12.15477935 12.14153412 12.20607265 12.05815252 11.96400108\n",
      " 12.26904744 12.1281111  11.73206099 12.00089179 12.46843691 12.19854438\n",
      " 11.69524702 11.9797992  11.57025053 12.46843691 11.87059991 11.57590026\n",
      " 12.09458227 11.75194237 11.4114463  11.68266824 12.15477935 11.69441334\n",
      " 12.12214741 11.9511804  12.86424011 11.79810441 12.17303279 12.50617724\n",
      " 11.85651517 11.8913619  11.76368418 12.07823927 12.27373129 12.31043266\n",
      " 12.93675161 12.14286657 12.20557252 12.10071213 12.2370867  12.17561344\n",
      " 11.87027118 12.11669483 11.66177641 12.27022047 11.84581988 12.09514108\n",
      " 11.58896015 12.07767093 11.97350987 11.88448902 12.28765263 11.92171836\n",
      " 11.59872694 12.01733052 12.21106019 11.88793137 12.67576373 12.27839331\n",
      " 12.10348606 12.8139179  12.38421883 11.89067673 11.98915964 12.4292162\n",
      " 11.40166983 12.34583459 11.89818787 12.00701176 11.48246626 11.86358234\n",
      " 12.19095901 11.76756768 12.35449265 11.65268741 12.07254125 12.4874851\n",
      " 12.24047407 12.10625231 12.07823927 12.04941884 12.18586994 12.07823927\n",
      " 11.6351431  11.84222921 11.81303006 12.3883942  11.62625415 11.80559508\n",
      " 12.66539443 12.04355372 11.66134547 12.63134038 11.32055357 12.07254125\n",
      " 11.57119437 12.17561344 12.17664898 11.95697006 11.83500896 12.08390501\n",
      " 12.27373129 11.90496755 11.75194237 11.86709728 11.28978191 11.88448902\n",
      " 12.04941884 11.71586631 11.84222921 12.14950229 11.69940503 11.72803684\n",
      " 11.98292909 12.20607265 11.98292909 12.65395847 12.52452638 11.1124479\n",
      " 11.97665948 12.43320822 11.43927892 11.60367983 12.86099861 11.76756768\n",
      " 11.32055357 12.61486554 12.42801548 11.30220443 12.14153412 11.60823564\n",
      " 11.66992921 11.76368418 12.27134527 12.55672952 12.34800614 12.15477935\n",
      " 11.81303006 11.9316358  11.37939407 11.9511804  11.65268741 11.87756858\n",
      " 12.42118403 11.79433792 11.82041016 11.66992921 11.31447453 11.96718074\n",
      " 11.60823564 12.10625231 12.16785143 12.31716669 12.10901093 12.04355372\n",
      " 12.14153412 12.13296417 11.98292909 12.16525065 12.11121236 12.49125159\n",
      " 11.51192496 12.99175343 12.34346657 12.2869012  11.6127708  12.07767093\n",
      " 13.19561384 11.98292909 12.05815252 11.58988651 11.78676213 11.57355009\n",
      " 12.86099861 12.82362845 12.7512997  11.13458902 12.4292162  12.41044104\n",
      " 11.73606902 12.36307639 11.88448902 12.10625231 11.55214618 12.35879373\n",
      " 12.00762171 12.29910751 12.18075484 11.58988651 11.91772368 12.66032792\n",
      " 12.08672589 11.8493977  12.17498953 11.83428406 11.6784399  12.68849879\n",
      " 13.22672339 11.82041016 11.32055357 11.5228758 ]\n"
     ]
    }
   ],
   "source": [
    "# 予測値の最大インデックスを出力クラスとする\n",
    "y_pred = model.predict(X_test)\n",
    "#y_pred = np.argmax(y_pred, axis=1)\n",
    "print(\"y_pred\", y_pred.ravel())\n",
    "print('y_test', y_test.ravel())"
   ]
  },
  {
   "cell_type": "code",
   "execution_count": 26,
   "id": "b887e1e1",
   "metadata": {},
   "outputs": [
    {
     "name": "stdout",
     "output_type": "stream",
     "text": [
      "loss (test): 0.20723721385002136\n",
      "Mean Squared Error (test): 0.20723721385002136\n"
     ]
    }
   ],
   "source": [
    "# 損失とmse\n",
    "score = model.evaluate(X_test, y_test, verbose=0)\n",
    "print('loss (test):', score[0])\n",
    "print('Mean Squared Error (test):', score[1])"
   ]
  },
  {
   "cell_type": "markdown",
   "id": "f2f12c89",
   "metadata": {},
   "source": [
    "## 【問題6】MNISTをKerasで学習"
   ]
  },
  {
   "cell_type": "markdown",
   "id": "d73212ec",
   "metadata": {},
   "source": [
    "TensorFlowによるMNISTデータセットによる画像の多値分類をKerasに書き換えてください。"
   ]
  },
  {
   "cell_type": "markdown",
   "id": "04b8634f",
   "metadata": {},
   "source": [
    "## データ準備"
   ]
  },
  {
   "cell_type": "code",
   "execution_count": 27,
   "id": "eaf4079f",
   "metadata": {},
   "outputs": [],
   "source": [
    "# データ読み込み\n",
    "(X_train, y_train), (X_test, y_test) = mnist.load_data()\n",
    "\n",
    "# 画像データ→行データに\n",
    "X_train = X_train.reshape(-1, 784)\n",
    "X_test = X_test.reshape(-1, 784)\n",
    "\n",
    "# 正規化\n",
    "X_train = X_train.astype(np.float)\n",
    "X_test = X_test.astype(np.float)\n",
    "X_train /= 255\n",
    "X_test /= 255\n",
    "\n",
    "# 変形\n",
    "y_train = y_train.astype(np.int)[:, np.newaxis]\n",
    "y_test = y_test.astype(np.int)[:, np.newaxis]\n",
    "\n",
    "# one-hotベクトル化\n",
    "enc = OneHotEncoder(handle_unknown='ignore', sparse=False)\n",
    "y_train_one_hot = enc.fit_transform(y_train[:])\n",
    "y_test_one_hot = enc.fit_transform(y_test[:])\n",
    "\n",
    "# 分割\n",
    "X_train, X_val, y_train, y_val = train_test_split(X_train, y_train_one_hot, test_size=0.2)"
   ]
  },
  {
   "cell_type": "code",
   "execution_count": 28,
   "id": "88809695",
   "metadata": {},
   "outputs": [],
   "source": [
    "# モデルの定義\n",
    "model = tf.keras.Sequential()\n",
    "model.add(tf.keras.layers.Dense(50,activation = tf.nn.relu,input_shape=(784,)))\n",
    "model.add(tf.keras.layers.Dense(100))\n",
    "model.add(tf.keras.layers.Dense(10,activation = tf.nn.softmax))\n"
   ]
  },
  {
   "cell_type": "code",
   "execution_count": 29,
   "id": "1b6a2ecc",
   "metadata": {},
   "outputs": [
    {
     "name": "stdout",
     "output_type": "stream",
     "text": [
      "Model: \"sequential_3\"\n",
      "_________________________________________________________________\n",
      "Layer (type)                 Output Shape              Param #   \n",
      "=================================================================\n",
      "dense_9 (Dense)              (None, 50)                39250     \n",
      "_________________________________________________________________\n",
      "dense_10 (Dense)             (None, 100)               5100      \n",
      "_________________________________________________________________\n",
      "dense_11 (Dense)             (None, 10)                1010      \n",
      "=================================================================\n",
      "Total params: 45,360\n",
      "Trainable params: 45,360\n",
      "Non-trainable params: 0\n",
      "_________________________________________________________________\n"
     ]
    }
   ],
   "source": [
    "# モデル構造の確認\n",
    "model.summary()"
   ]
  },
  {
   "cell_type": "code",
   "execution_count": 30,
   "id": "6e392716",
   "metadata": {},
   "outputs": [],
   "source": [
    "# モデルのコンパイル\n",
    "model.compile(loss = 'categorical_crossentropy',\n",
    "              optimizer=tf.optimizers.Adam(learning_rate=0.01),\n",
    "              metrics=['accuracy'])"
   ]
  },
  {
   "cell_type": "code",
   "execution_count": 31,
   "id": "a80b004c",
   "metadata": {},
   "outputs": [
    {
     "name": "stdout",
     "output_type": "stream",
     "text": [
      "Epoch 1/20\n",
      "100/100 [==============================] - 1s 7ms/step - loss: 1.0185 - accuracy: 0.6520 - val_loss: 0.7636 - val_accuracy: 0.7973\n",
      "Epoch 2/20\n",
      "100/100 [==============================] - 1s 7ms/step - loss: 0.5397 - accuracy: 0.8280 - val_loss: 0.6319 - val_accuracy: 0.8173\n",
      "Epoch 3/20\n",
      "100/100 [==============================] - 1s 6ms/step - loss: 0.3627 - accuracy: 0.8840 - val_loss: 0.7283 - val_accuracy: 0.8228\n",
      "Epoch 4/20\n",
      "100/100 [==============================] - 1s 7ms/step - loss: 0.3598 - accuracy: 0.8900 - val_loss: 0.7653 - val_accuracy: 0.8112\n",
      "Epoch 5/20\n",
      "100/100 [==============================] - 1s 7ms/step - loss: 0.2922 - accuracy: 0.9230 - val_loss: 0.7766 - val_accuracy: 0.8073\n",
      "Epoch 6/20\n",
      "100/100 [==============================] - 1s 7ms/step - loss: 0.2195 - accuracy: 0.9340 - val_loss: 0.8807 - val_accuracy: 0.8198\n",
      "Epoch 7/20\n",
      "100/100 [==============================] - 1s 7ms/step - loss: 0.1940 - accuracy: 0.9380 - val_loss: 0.7940 - val_accuracy: 0.8447\n",
      "Epoch 8/20\n",
      "100/100 [==============================] - 1s 7ms/step - loss: 0.2532 - accuracy: 0.9320 - val_loss: 0.8955 - val_accuracy: 0.8288\n",
      "Epoch 9/20\n",
      "100/100 [==============================] - 1s 7ms/step - loss: 0.2567 - accuracy: 0.9460 - val_loss: 1.0765 - val_accuracy: 0.8152\n",
      "Epoch 10/20\n",
      "100/100 [==============================] - 1s 7ms/step - loss: 0.2047 - accuracy: 0.9490 - val_loss: 1.6006 - val_accuracy: 0.8037\n",
      "Epoch 11/20\n",
      "100/100 [==============================] - 1s 8ms/step - loss: 0.1997 - accuracy: 0.9540 - val_loss: 0.8895 - val_accuracy: 0.8380\n",
      "Epoch 12/20\n",
      "100/100 [==============================] - 1s 7ms/step - loss: 0.2583 - accuracy: 0.9390 - val_loss: 1.2392 - val_accuracy: 0.7977\n",
      "Epoch 13/20\n",
      "100/100 [==============================] - 1s 7ms/step - loss: 0.2213 - accuracy: 0.9490 - val_loss: 1.2068 - val_accuracy: 0.8303\n",
      "Epoch 14/20\n",
      "100/100 [==============================] - 1s 7ms/step - loss: 0.1299 - accuracy: 0.9580 - val_loss: 1.1538 - val_accuracy: 0.8533\n",
      "Epoch 15/20\n",
      "100/100 [==============================] - 1s 7ms/step - loss: 0.1047 - accuracy: 0.9710 - val_loss: 1.1769 - val_accuracy: 0.8528\n",
      "Epoch 16/20\n",
      "100/100 [==============================] - 1s 7ms/step - loss: 0.1214 - accuracy: 0.9740 - val_loss: 1.6132 - val_accuracy: 0.8370\n",
      "Epoch 17/20\n",
      "100/100 [==============================] - 1s 6ms/step - loss: 0.4770 - accuracy: 0.9230 - val_loss: 2.0901 - val_accuracy: 0.7391\n",
      "Epoch 18/20\n",
      "100/100 [==============================] - 1s 6ms/step - loss: 0.6271 - accuracy: 0.8590 - val_loss: 1.1889 - val_accuracy: 0.7805\n",
      "Epoch 19/20\n",
      "100/100 [==============================] - 1s 6ms/step - loss: 0.2877 - accuracy: 0.9310 - val_loss: 1.2099 - val_accuracy: 0.8288\n",
      "Epoch 20/20\n",
      "100/100 [==============================] - 1s 7ms/step - loss: 0.1777 - accuracy: 0.9440 - val_loss: 1.2356 - val_accuracy: 0.8446\n"
     ]
    }
   ],
   "source": [
    "# 学習実行\n",
    "history = model.fit(X_train[:1000],\n",
    "                    y_train[:1000],\n",
    "                    batch_size=10,\n",
    "                    epochs=20,\n",
    "                    verbose=1,\n",
    "                    validation_data=(X_val, y_val))"
   ]
  },
  {
   "cell_type": "code",
   "execution_count": 32,
   "id": "6e504a16",
   "metadata": {},
   "outputs": [],
   "source": [
    "y_pred = model.predict(X_test)"
   ]
  },
  {
   "cell_type": "code",
   "execution_count": 33,
   "id": "609e2cb7",
   "metadata": {},
   "outputs": [],
   "source": [
    "y_pred = np.argmax(y_pred,axis=1)"
   ]
  },
  {
   "cell_type": "code",
   "execution_count": 34,
   "id": "ce64634a",
   "metadata": {},
   "outputs": [
    {
     "name": "stdout",
     "output_type": "stream",
     "text": [
      "y_pred [7 2 1 ... 4 5 6]\n",
      "y_test [7 2 1 ... 4 5 6]\n"
     ]
    }
   ],
   "source": [
    "print(\"y_pred\", y_pred)\n",
    "print('y_test', y_test.ravel())"
   ]
  },
  {
   "cell_type": "code",
   "execution_count": 35,
   "id": "92d88a8b",
   "metadata": {},
   "outputs": [
    {
     "name": "stdout",
     "output_type": "stream",
     "text": [
      "test loss: 1.1549431085586548\n",
      "test accuracy: 0.854200005531311\n"
     ]
    }
   ],
   "source": [
    "score = model.evaluate(X_test, y_test_one_hot, verbose=0)\n",
    "print('test loss:', score[0])\n",
    "print('test accuracy:', score[1])"
   ]
  },
  {
   "cell_type": "code",
   "execution_count": null,
   "id": "2175ebf4",
   "metadata": {},
   "outputs": [],
   "source": []
  },
  {
   "cell_type": "code",
   "execution_count": null,
   "id": "dc394f7d",
   "metadata": {},
   "outputs": [],
   "source": []
  }
 ],
 "metadata": {
  "kernelspec": {
   "display_name": "Python 3",
   "language": "python",
   "name": "python3"
  },
  "language_info": {
   "codemirror_mode": {
    "name": "ipython",
    "version": 3
   },
   "file_extension": ".py",
   "mimetype": "text/x-python",
   "name": "python",
   "nbconvert_exporter": "python",
   "pygments_lexer": "ipython3",
   "version": "3.8.5"
  }
 },
 "nbformat": 4,
 "nbformat_minor": 5
}
