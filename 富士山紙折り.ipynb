{
 "cells": [
  {
   "cell_type": "markdown",
   "id": "1656f0cd",
   "metadata": {},
   "source": [
    "【問題1】何回折ったら富士山を超えるか"
   ]
  },
  {
   "cell_type": "code",
   "execution_count": 3,
   "id": "be881323",
   "metadata": {},
   "outputs": [
    {
     "name": "stdout",
     "output_type": "stream",
     "text": [
      "26回\n"
     ]
    }
   ],
   "source": [
    "kami = 0.00008\n",
    "num = 0\n",
    "while True:\n",
    "    num += 1\n",
    "    kami = kami*2\n",
    "    if kami > 3667:\n",
    "        break\n",
    "print(\"{}回\".format(num))"
   ]
  },
  {
   "cell_type": "markdown",
   "id": "378c4057",
   "metadata": {},
   "source": [
    "【問題2】任意の厚さに対応した関数"
   ]
  },
  {
   "cell_type": "code",
   "execution_count": 4,
   "id": "b29a506c",
   "metadata": {},
   "outputs": [
    {
     "name": "stdout",
     "output_type": "stream",
     "text": [
      "最も近い太陽以外の恒星の場合69回\n"
     ]
    }
   ],
   "source": [
    "def kaisu(h):\n",
    "    kami = 0.00008\n",
    "    num = 0\n",
    "    while True:\n",
    "        num += 1\n",
    "        kami = kami*2\n",
    "        if kami > h:\n",
    "            return num\n",
    "\n",
    "print(\"最も近い太陽以外の恒星の場合{}回\".format(kaisu(4.0175 * 10**16)))"
   ]
  },
  {
   "cell_type": "markdown",
   "id": "8eb10a0b",
   "metadata": {},
   "source": [
    "【問題3】必要な紙の長さ"
   ]
  },
  {
   "cell_type": "code",
   "execution_count": 5,
   "id": "61ec8fe7",
   "metadata": {},
   "outputs": [
    {
     "name": "stdout",
     "output_type": "stream",
     "text": [
      "富士山の場合:18864.63万キロメートル\n",
      "月の場合:324091944417078.12万キロメートル\n",
      "最も近い太陽以外の恒星の場合:1459580360110034897459784712192.00万キロメートル\n"
     ]
    }
   ],
   "source": [
    "import math\n",
    "kami = 0.00008\n",
    "\n",
    "def feet(h):\n",
    "    def kaisuu(h):\n",
    "        kami = 0.00008\n",
    "        num = 0\n",
    "        while True:\n",
    "            num += 1\n",
    "            kami = kami*2\n",
    "            if kami > h:\n",
    "                return num\n",
    "    n = kaisuu(h)\n",
    "    L = ((math.pi*kami)*(2**n + 4)*(2**n - 1))/6\n",
    "    return L\n",
    "\n",
    "print(\"富士山の場合:{:.2f}万キロメートル\".format(feet(3667)/10000000))\n",
    "print(\"月の場合:{:.2f}万キロメートル\".format(feet(384403900)/10000000))\n",
    "print(\"最も近い太陽以外の恒星の場合:{:.2f}万キロメートル\".format(feet(4.0175 * 10**16)/10000000))"
   ]
  },
  {
   "cell_type": "code",
   "execution_count": null,
   "id": "acba2e15",
   "metadata": {},
   "outputs": [],
   "source": []
  }
 ],
 "metadata": {
  "kernelspec": {
   "display_name": "Python 3",
   "language": "python",
   "name": "python3"
  },
  "language_info": {
   "codemirror_mode": {
    "name": "ipython",
    "version": 3
   },
   "file_extension": ".py",
   "mimetype": "text/x-python",
   "name": "python",
   "nbconvert_exporter": "python",
   "pygments_lexer": "ipython3",
   "version": "3.8.8"
  }
 },
 "nbformat": 4,
 "nbformat_minor": 5
}
