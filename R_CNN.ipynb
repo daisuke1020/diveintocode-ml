{
 "cells": [
  {
   "cell_type": "markdown",
   "id": "fbb1bccd-ccb5-45f7-b577-e683d8484537",
   "metadata": {},
   "source": [
    "# Faster R-CNN"
   ]
  },
  {
   "cell_type": "markdown",
   "id": "2568d75f-4bfc-4a2e-8f91-db9a7e502065",
   "metadata": {},
   "source": [
    "## 【問題1】学習と推定"
   ]
  },
  {
   "cell_type": "code",
   "execution_count": null,
   "id": "9fba8c0d-0c1d-4f97-95c2-f9c1b4e78ff4",
   "metadata": {},
   "outputs": [],
   "source": []
  },
  {
   "cell_type": "code",
   "execution_count": null,
   "id": "33fce3eb-1dfc-4902-a718-261edc4be4a5",
   "metadata": {},
   "outputs": [],
   "source": []
  },
  {
   "cell_type": "code",
   "execution_count": null,
   "id": "5638de53-a871-4f1f-a0ad-d6c7b0c9e46a",
   "metadata": {},
   "outputs": [],
   "source": []
  },
  {
   "cell_type": "code",
   "execution_count": null,
   "id": "1f435b4c-8284-48d0-ace9-e04ce31d7bda",
   "metadata": {},
   "outputs": [],
   "source": []
  },
  {
   "cell_type": "code",
   "execution_count": null,
   "id": "d41bc4ec-9541-4fb8-9d24-fad69264d874",
   "metadata": {},
   "outputs": [],
   "source": []
  },
  {
   "cell_type": "code",
   "execution_count": null,
   "id": "34cc1343-c57c-4a8f-bc70-3f022062fa07",
   "metadata": {},
   "outputs": [],
   "source": []
  },
  {
   "cell_type": "code",
   "execution_count": null,
   "id": "8c8471c4-d161-4040-be7f-2eca81cf5a6d",
   "metadata": {},
   "outputs": [],
   "source": []
  },
  {
   "cell_type": "code",
   "execution_count": null,
   "id": "6c3120bc-dec4-4bcd-ae91-918ec2f88f70",
   "metadata": {},
   "outputs": [],
   "source": []
  },
  {
   "cell_type": "code",
   "execution_count": null,
   "id": "352cb64a-9cb5-4f49-b031-64a56da40a90",
   "metadata": {},
   "outputs": [],
   "source": []
  }
 ],
 "metadata": {
  "kernelspec": {
   "display_name": "Python 3 (ipykernel)",
   "language": "python",
   "name": "python3"
  },
  "language_info": {
   "codemirror_mode": {
    "name": "ipython",
    "version": 3
   },
   "file_extension": ".py",
   "mimetype": "text/x-python",
   "name": "python",
   "nbconvert_exporter": "python",
   "pygments_lexer": "ipython3",
   "version": "3.8.5"
  }
 },
 "nbformat": 4,
 "nbformat_minor": 5
}
